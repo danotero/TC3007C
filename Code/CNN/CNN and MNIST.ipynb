{
 "cells": [
  {
   "cell_type": "markdown",
   "id": "b9a576b0",
   "metadata": {},
   "source": [
    "# CNN and the MNIST dataset\n",
    "\n",
    "Back in the day the **MNIST** dataset was used as a standard benchmark for image classification models. We will use this dataset to evaluated the performance of **LeNet-5**, a Convolutional Neural Network (CNN) introduced by LeCun et al. in this paper in 1998:\n",
    "\n",
    "*LeCun, Y.; Bottou, L.; Bengio, Y. & Haffner, P. (1998). Gradient-based learning applied to document recognition.Proceedings of the IEEE. 86(11): 2278 - 2324*.\n",
    "\n",
    "By the way, this notebook is based on another notebook written by **Professor Benjamín Valdés Aguirre**. And now we import some libraries and modules."
   ]
  },
  {
   "cell_type": "code",
   "execution_count": 1,
   "id": "d180b888",
   "metadata": {},
   "outputs": [
    {
     "name": "stderr",
     "output_type": "stream",
     "text": [
      "Using TensorFlow backend.\n"
     ]
    }
   ],
   "source": [
    "import tensorflow as tf\n",
    "import pandas as pd\n",
    "import numpy as np\n",
    "import matplotlib.pyplot as plt\n",
    "%matplotlib inline\n",
    "\n",
    "from keras.models import Sequential\n",
    "from keras.layers import Dense, Flatten, Conv2D, MaxPooling2D, AveragePooling2D"
   ]
  },
  {
   "cell_type": "markdown",
   "id": "6201693c",
   "metadata": {},
   "source": [
    "Conveniently enough, the MNIST dataset is included in the `tensorflow` library. Let us take advantage of that and import said dataset."
   ]
  },
  {
   "cell_type": "code",
   "execution_count": 2,
   "id": "e7869f34",
   "metadata": {},
   "outputs": [],
   "source": [
    "(X_train, y_train), (X_test, y_test) = tf.keras.datasets.mnist.load_data()"
   ]
  },
  {
   "cell_type": "markdown",
   "id": "857475fb",
   "metadata": {},
   "source": [
    "This dataset contains 60.000 images of handwritten numbers with their labels for training, plus a set of 10.000 images for testing. "
   ]
  },
  {
   "cell_type": "code",
   "execution_count": 3,
   "id": "bbe46046",
   "metadata": {},
   "outputs": [
    {
     "name": "stdout",
     "output_type": "stream",
     "text": [
      "Number of images in the training set is 60000.\n",
      "Number of images in the test set is 10000.\n"
     ]
    }
   ],
   "source": [
    "print(f'Number of images in the training set is {X_train.shape[0]}.')\n",
    "print(f'Number of images in the test set is {X_test.shape[0]}.')"
   ]
  },
  {
   "cell_type": "markdown",
   "id": "9e5a7820",
   "metadata": {},
   "source": [
    "For learning purposes, it is recommended to scale the values of the pixels of the images, which can be between 0 and 255. Let us do that in the following cell."
   ]
  },
  {
   "cell_type": "code",
   "execution_count": 4,
   "id": "74269f3f",
   "metadata": {},
   "outputs": [],
   "source": [
    "X_train = X_train / 255\n",
    "X_test = X_test / 255"
   ]
  },
  {
   "cell_type": "markdown",
   "id": "2ae98060",
   "metadata": {},
   "source": [
    "How do these images look like? Let us take a peek by selecting randomly four images from the training set. The following code does this by using the `matplotlib` library for visualization purposes."
   ]
  },
  {
   "cell_type": "code",
   "execution_count": 5,
   "id": "9c18a0ac",
   "metadata": {},
   "outputs": [
    {
     "data": {
      "image/png": "[encoded data removed]",
      "text/plain": [
       "<Figure size 576x432 with 4 Axes>"
      ]
     },
     "metadata": {
      "needs_background": "light"
     },
     "output_type": "display_data"
    }
   ],
   "source": [
    "num_train_images = X_train.shape[0]\n",
    "random_index = np.random.choice(num_train_images, 4)\n",
    "random_train_images = X_train[random_index]\n",
    "\n",
    "fig, axes = plt.subplots(2, 2, figsize=(8, 6))\n",
    "fig.subplots_adjust(hspace=0.4, wspace=-0.2)\n",
    "\n",
    "for n in range(4):\n",
    "    i, j = divmod(n, 2)\n",
    "    axes[i, j].imshow(random_train_images[n])\n",
    "    \n",
    "plt.show()"
   ]
  },
  {
   "cell_type": "markdown",
   "id": "1f90338f",
   "metadata": {},
   "source": [
    "Now we add an extra dimension to our data since this is required by the `tensorflow` library. This can be done easily by the `reshape` method from the `numpy` library."
   ]
  },
  {
   "cell_type": "code",
   "execution_count": 6,
   "id": "160c73ed",
   "metadata": {},
   "outputs": [],
   "source": [
    "X_train = X_train.reshape(X_train.shape[0], 28, 28, 1)\n",
    "X_test = X_test.reshape(X_test.shape[0], 28, 28, 1)"
   ]
  },
  {
   "cell_type": "markdown",
   "id": "b37aa61a",
   "metadata": {},
   "source": [
    "In the following cell we will implement the **LeNet-5** CNN. The architecture of this CNN is shown in the following figure.\n",
    "\n",
    "<img src=\"LeNet.png\" alt=\"Drawing\" style=\"width: 300px;\"/>\n",
    "\n",
    "Image taken from https://en.wikipedia.org/wiki/LeNet."
   ]
  },
  {
   "cell_type": "code",
   "execution_count": 7,
   "id": "3c75c47d",
   "metadata": {},
   "outputs": [
    {
     "name": "stderr",
     "output_type": "stream",
     "text": [
      "2022-10-05 18:38:40.251665: I tensorflow/core/platform/cpu_feature_guard.cc:145] This TensorFlow binary is optimized with Intel(R) MKL-DNN to use the following CPU instructions in performance critical operations:  SSE4.1 SSE4.2 AVX AVX2 FMA\n",
      "To enable them in non-MKL-DNN operations, rebuild TensorFlow with the appropriate compiler flags.\n",
      "2022-10-05 18:38:40.251936: I tensorflow/core/common_runtime/process_util.cc:115] Creating new thread pool with default inter op setting: 8. Tune using inter_op_parallelism_threads for best performance.\n"
     ]
    }
   ],
   "source": [
    "model = Sequential([\n",
    "                    Conv2D(6, kernel_size=(5,5), strides=(1,1), padding='same', activation=\"sigmoid\", input_shape=(28,28,1)),\n",
    "                    AveragePooling2D(pool_size=(2,2), strides=(2,2), padding='valid'),\n",
    "                    Conv2D(16, kernel_size=(5,5), strides=(1,1), padding='valid', activation=\"sigmoid\"),\n",
    "                    AveragePooling2D(pool_size=(2,2), strides=(2,2), padding='valid'),\n",
    "                    Flatten(),\n",
    "                    Dense(120, activation='sigmoid'),\n",
    "                    Dense(84, activation='sigmoid'),                \n",
    "                    Dense(10, activation='softmax')\n",
    "                    ])"
   ]
  },
  {
   "cell_type": "markdown",
   "id": "21f35607",
   "metadata": {},
   "source": [
    "After telling `tensorflow` how our CNN should be, we need to `compile` the model. In this step we must specify the type of gradient descent method we want to use (`optimizer`), the cost function to be minimized (`loss`), and the metric we want to use to evaluate our model (`metrics`)."
   ]
  },
  {
   "cell_type": "code",
   "execution_count": 8,
   "id": "f4ab1ecb",
   "metadata": {},
   "outputs": [],
   "source": [
    "model.compile(optimizer= \"adam\", loss = \"sparse_categorical_crossentropy\", metrics=['accuracy'])"
   ]
  },
  {
   "cell_type": "markdown",
   "id": "c9648f8e",
   "metadata": {},
   "source": [
    "We are ready to train the model using the `fit` method. "
   ]
  },
  {
   "cell_type": "code",
   "execution_count": 9,
   "id": "f18de68c",
   "metadata": {},
   "outputs": [
    {
     "name": "stdout",
     "output_type": "stream",
     "text": [
      "Epoch 1/5\n",
      "60000/60000 [==============================] - 91s 2ms/step - loss: 0.7943 - accuracy: 0.7401\n",
      "Epoch 2/5\n",
      "60000/60000 [==============================] - 93s 2ms/step - loss: 0.1818 - accuracy: 0.9451\n",
      "Epoch 3/5\n",
      "60000/60000 [==============================] - 83s 1ms/step - loss: 0.1167 - accuracy: 0.9639\n",
      "Epoch 4/5\n",
      "60000/60000 [==============================] - 80s 1ms/step - loss: 0.0890 - accuracy: 0.9724\n",
      "Epoch 5/5\n",
      "60000/60000 [==============================] - 82s 1ms/step - loss: 0.0733 - accuracy: 0.9773\n"
     ]
    }
   ],
   "source": [
    "history = model.fit(X_train, y_train, epochs = 5)"
   ]
  },
  {
   "cell_type": "markdown",
   "id": "15a27d34",
   "metadata": {},
   "source": [
    "Notice that the training ran for five epochs and returned the training history, which be used for plotting the learning curves."
   ]
  },
  {
   "cell_type": "code",
   "execution_count": 10,
   "id": "0d4e27ac",
   "metadata": {},
   "outputs": [],
   "source": [
    "df_history = pd.DataFrame(history.history)"
   ]
  },
  {
   "cell_type": "code",
   "execution_count": 11,
   "id": "56d0579e",
   "metadata": {},
   "outputs": [
    {
     "data": {
      "text/plain": [
       "[Text(0.5, 0, 'Epochs'), Text(0, 0.5, 'Accuracy')]"
      ]
     },
     "execution_count": 11,
     "metadata": {},
     "output_type": "execute_result"
    },
    {
     "data": {
      "image/png": "[encoded data removed]",
      "text/plain": [
       "<Figure size 432x288 with 1 Axes>"
      ]
     },
     "metadata": {
      "needs_background": "light"
     },
     "output_type": "display_data"
    }
   ],
   "source": [
    "acc_plot = df_history.plot(y=\"accuracy\", title=\"Accuracy vs Epochs\", legend=False)\n",
    "acc_plot.set(xlabel=\"Epochs\", ylabel=\"Accuracy\")"
   ]
  },
  {
   "cell_type": "code",
   "execution_count": 12,
   "id": "96668336",
   "metadata": {},
   "outputs": [
    {
     "data": {
      "text/plain": [
       "[Text(0.5, 0, 'Epochs'), Text(0, 0.5, 'Loss')]"
      ]
     },
     "execution_count": 12,
     "metadata": {},
     "output_type": "execute_result"
    },
    {
     "data": {
      "image/png": "[encoded data removed]",
      "text/plain": [
       "<Figure size 432x288 with 1 Axes>"
      ]
     },
     "metadata": {
      "needs_background": "light"
     },
     "output_type": "display_data"
    }
   ],
   "source": [
    "acc_plot = df_history.plot(y=\"loss\", title = \"Loss vs Epochs\",legend=False)\n",
    "acc_plot.set(xlabel=\"Epochs\", ylabel=\"Loss\")"
   ]
  },
  {
   "cell_type": "markdown",
   "id": "df0be4d9",
   "metadata": {},
   "source": [
    "With the `evaluate` method we can see how well our method performs on the test set, which is data that was not included in the training phase."
   ]
  },
  {
   "cell_type": "code",
   "execution_count": 13,
   "id": "4336f17d",
   "metadata": {},
   "outputs": [
    {
     "name": "stdout",
     "output_type": "stream",
     "text": [
      "10000/10000 [==============================] - 6s 638us/step\n",
      "Test loss: 0.07602351574208588\n",
      "Test accuracy: 0.9753999710083008\n"
     ]
    }
   ],
   "source": [
    "test_loss, test_accuracy = model.evaluate(X_test, y_test)\n",
    "print(f\"Test loss: {test_loss}\")\n",
    "print(f\"Test accuracy: {test_accuracy}\")"
   ]
  },
  {
   "cell_type": "markdown",
   "id": "39e11a4a",
   "metadata": {},
   "source": [
    "As you can see, the CNN proposedf by LeCun et al. did pretty well. Let us now see how the trained model does on four handwritten digits that are chosen randomly from the test set."
   ]
  },
  {
   "cell_type": "code",
   "execution_count": 14,
   "id": "12f05f5e",
   "metadata": {},
   "outputs": [
    {
     "data": {
      "image/png": "[encoded data removed]",
      "text/plain": [
       "<Figure size 576x432 with 4 Axes>"
      ]
     },
     "metadata": {
      "needs_background": "light"
     },
     "output_type": "display_data"
    }
   ],
   "source": [
    "num_test_images = X_test.shape[0]\n",
    "random_index = np.random.choice(num_test_images, 4)\n",
    "random_test_images = X_test[random_index]\n",
    "predictions = model.predict(random_test_images)\n",
    "\n",
    "fig, axes = plt.subplots(2, 2, figsize=(8, 6))\n",
    "fig.subplots_adjust(hspace=0.4, wspace=-0.2)\n",
    "\n",
    "for n, prediction in enumerate(predictions):\n",
    "    i, j = divmod(n,2)\n",
    "    axes[i, j].imshow(random_test_images[n])\n",
    "    axes[i, j].text(8, -1.5, f'Prediction: {np.argmax(prediction)}')\n",
    "    \n",
    "plt.show()"
   ]
  },
  {
   "cell_type": "markdown",
   "id": "a0504aa0",
   "metadata": {},
   "source": [
    "As you probably know by now, `MaxPooling` and `ReLU` are prefered over `AveragePooling` and `sigmoid`, respectively. This is the case because better results are, in general, obtained when these options are chosen for building our neural network. This said, we probably can do better by using the same architecture, but insted of using `sigmoid` as an activation function and computing an average when pooling is done, let us use `MaxPooling` and `ReLU` instead."
   ]
  },
  {
   "cell_type": "code",
   "execution_count": 15,
   "id": "1da90562",
   "metadata": {},
   "outputs": [],
   "source": [
    "model = Sequential([\n",
    "                    Conv2D(6, kernel_size=(5,5), strides=(1,1), padding='same', activation=\"relu\", input_shape=(28,28,1)),\n",
    "                    MaxPooling2D(pool_size=(2,2), strides=(2,2), padding='valid'),\n",
    "                    Conv2D(16, kernel_size=(5,5), strides=(1,1), padding='valid', activation=\"relu\"),\n",
    "                    MaxPooling2D(pool_size=(2,2), strides=(2,2), padding='valid'),\n",
    "                    Flatten(),\n",
    "                    Dense(120, activation='relu'),\n",
    "                    Dense(84, activation='relu'),                \n",
    "                    Dense(10, activation='softmax')\n",
    "                    ])"
   ]
  },
  {
   "cell_type": "markdown",
   "id": "dda19dbd",
   "metadata": {},
   "source": [
    "As usual, let us compile and train our new model."
   ]
  },
  {
   "cell_type": "code",
   "execution_count": 16,
   "id": "8c16df78",
   "metadata": {},
   "outputs": [
    {
     "name": "stdout",
     "output_type": "stream",
     "text": [
      "Epoch 1/5\n",
      "60000/60000 [==============================] - 81s 1ms/step - loss: 0.1833 - accuracy: 0.9442\n",
      "Epoch 2/5\n",
      "60000/60000 [==============================] - 81s 1ms/step - loss: 0.0620 - accuracy: 0.9806\n",
      "Epoch 3/5\n",
      "60000/60000 [==============================] - 82s 1ms/step - loss: 0.0467 - accuracy: 0.9856\n",
      "Epoch 4/5\n",
      "60000/60000 [==============================] - 81s 1ms/step - loss: 0.0344 - accuracy: 0.9889\n",
      "Epoch 5/5\n",
      "60000/60000 [==============================] - 81s 1ms/step - loss: 0.0284 - accuracy: 0.9913\n"
     ]
    }
   ],
   "source": [
    "model.compile(optimizer= \"adam\", loss = \"sparse_categorical_crossentropy\", metrics=['accuracy'])\n",
    "history = model.fit(X_train, y_train, epochs = 5)"
   ]
  },
  {
   "cell_type": "markdown",
   "id": "51f85d49",
   "metadata": {},
   "source": [
    "And finally, we can see how well it performed."
   ]
  },
  {
   "cell_type": "code",
   "execution_count": 17,
   "id": "f0fc7465",
   "metadata": {},
   "outputs": [
    {
     "name": "stdout",
     "output_type": "stream",
     "text": [
      "10000/10000 [==============================] - 6s 598us/step\n",
      "Test loss: 0.035598537043072795\n",
      "Test accuracy: 0.9894999861717224\n"
     ]
    }
   ],
   "source": [
    "test_loss, test_accuracy = model.evaluate(X_test, y_test)\n",
    "print(f\"Test loss: {test_loss}\")\n",
    "print(f\"Test accuracy: {test_accuracy}\")"
   ]
  },
  {
   "cell_type": "markdown",
   "id": "e88b0848",
   "metadata": {},
   "source": [
    "Almost two points better than the original LeNet-5! Not bad. As you can see, both the type of pooling and the type of activation function that we use make a difference."
   ]
  },
  {
   "cell_type": "markdown",
   "id": "ca12acf2",
   "metadata": {},
   "source": [
    "## References\n",
    "\n",
    "[1] https://www.kaggle.com/code/kannannadars/ann-using-mnist-dataset\n",
    "\n",
    "[2] https://en.wikipedia.org/wiki/LeNet"
   ]
  }
 ],
 "metadata": {
  "hide_input": false,
  "kernelspec": {
   "display_name": "Python 3 (ipykernel)",
   "language": "python",
   "name": "python3"
  },
  "language_info": {
   "codemirror_mode": {
    "name": "ipython",
    "version": 3
   },
   "file_extension": ".py",
   "mimetype": "text/x-python",
   "name": "python",
   "nbconvert_exporter": "python",
   "pygments_lexer": "ipython3",
   "version": "3.8.13"
  }
 },
 "nbformat": 4,
 "nbformat_minor": 5
}
